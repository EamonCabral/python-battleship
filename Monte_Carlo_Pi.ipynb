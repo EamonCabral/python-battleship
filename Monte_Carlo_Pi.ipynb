{
  "nbformat": 4,
  "nbformat_minor": 0,
  "metadata": {
    "colab": {
      "name": "Monte_Carlo_Pi.ipynb",
      "provenance": [],
      "collapsed_sections": [],
      "authorship_tag": "ABX9TyMTgou5IKybuOC+6aGCgZKM",
      "include_colab_link": true
    },
    "kernelspec": {
      "name": "python3",
      "display_name": "Python 3"
    },
    "language_info": {
      "name": "python"
    }
  },
  "cells": [
    {
      "cell_type": "markdown",
      "metadata": {
        "id": "view-in-github",
        "colab_type": "text"
      },
      "source": [
        "<a href=\"https://colab.research.google.com/github/EamonCabral/python-tutorials/blob/main/Monte_Carlo_Pi.ipynb\" target=\"_parent\"><img src=\"https://colab.research.google.com/assets/colab-badge.svg\" alt=\"Open In Colab\"/></a>"
      ]
    },
    {
      "cell_type": "code",
      "metadata": {
        "id": "382Fx9U0y1zk"
      },
      "source": [
        "# A monte carlo simulation to estimate the value of Pi\n",
        "# Author: Emmanuel Cabral\n",
        "\n",
        "# The basis of this program is to estimate the ratio \n",
        "# of the area of the unit circle's quadrant to the\n",
        "# area of the unit square. This, in turn returns the ratio of π/4\n",
        "\n",
        "# Mathematically, this will look as it follows:\n",
        "# First, A_c = Area of Circumference quadrant & A_T = Area of unit Square\n",
        "# A_c = (π/4) * r^2 == (π/4) * 1^2 | Effectively, this makes A_c = π/4\n",
        "# A_T = b^2 == 1^2 | This makes A_T = 1\n",
        "\n",
        "# Finally, as a mean to estimate both areas, we will use a discrete sum\n",
        "# of the computed values. This means that ∑A_c < ∑A_T and their ratio is:\n",
        "# ->  (π/4) / 1 = A_c/A_T, or \n",
        "#                                 π = A_c/A_T * 4\n",
        "\n",
        "\n",
        "import numpy as np\n",
        "import matplotlib.pyplot as plt\n",
        "import matplotlib.animation as animation\n",
        "import random\n",
        "import seaborn as sns\n",
        "import time \n",
        "import pylab as pl\n",
        "from IPython import display\n",
        "\n",
        "# Define function and domain\n",
        "\n",
        "Domain = [[0,0],[0,1],[1,1],[1,0],[0,0]]\n",
        "x = []\n",
        "y = []\n",
        "\n",
        "for i in range(len(Domain)):\n",
        "  x.append(Domain[i][0])\n",
        "  y.append(Domain[i][1])\n",
        "\n"
      ],
      "execution_count": 286,
      "outputs": []
    },
    {
      "cell_type": "code",
      "metadata": {
        "id": "CORsIeN41Nre"
      },
      "source": [
        "def Monte_carlo(Input):\n",
        "\n",
        "    iterations = Input\n",
        "    x = [] \n",
        "    y = []\n",
        "    point = []\n",
        "    a = []\n",
        "    b = []\n",
        "    \n",
        "    # Create a Scatter plot that will update with each iteration\n",
        "    \n",
        "    # fig = plt.figure(figsize=(5,5))\n",
        "    # ax1 = fig.add_subplot(111)\n",
        "    # ax1.set_xlim([0, 1])\n",
        "    # ax1.set_ylim([0, 1])\n",
        "\n",
        "    for i in range(iterations):\n",
        "      \n",
        "      dist = []\n",
        "      x.append(random.uniform(0,1))\n",
        "      y.append(random.uniform(0,1))\n",
        "      point.append([x[i],y[i]])\n",
        "      dist = np.linalg.norm(x[i]**2 + y[i]**2) \n",
        "\n",
        "      if dist <= 1:\n",
        "        a.append(point[i])\n",
        "        xless.append(point[i][0])\n",
        "        yless.append(point[i][1])\n",
        "\n",
        "        # Update Scatter plot in real time\n",
        "\n",
        "        # ax1.scatter(xless[-1],yless[-1], color= 'red',s=0.5)\n",
        "        # display.clear_output(wait=True)\n",
        "        # display.display(pl.gcf())\n",
        "\n",
        "      else:\n",
        "        b.append(point[i])\n",
        "        xmore.append(point[i][0])\n",
        "        ymore.append(point[i][1])\n",
        "\n",
        "        # Update Scatter plot in real time\n",
        "\n",
        "        # ax1.scatter(xmore[-1],ymore[-1], color= 'blue',s=0.5)\n",
        "        # display.clear_output(wait=True)\n",
        "        # display.display(pl.gcf())\n",
        "    \n",
        "    PI = len(a)/len(point) * 4\n",
        "\n",
        "    return a,b,point, PI"
      ],
      "execution_count": 329,
      "outputs": []
    },
    {
      "cell_type": "code",
      "metadata": {
        "colab": {
          "base_uri": "https://localhost:8080/",
          "height": 370
        },
        "id": "-O0GyyoA6Qxf",
        "outputId": "e9e691e5-eca3-408d-bdbc-29ef2459ffff"
      },
      "source": [
        "n = 500000\n",
        "less, more, total, est_pi = Monte_carlo(n) # The input should be the number of iterations\n",
        "\n",
        "xmore = [row[0] for row in more]\n",
        "ymore = [row[1] for row in more]\n",
        "\n",
        "xless = [row[0] for row in less]\n",
        "yless = [row[1] for row in less]\n",
        "\n",
        "plt.figure(figsize=(5,5))\n",
        "\n",
        "plt.plot(x,y, 'k--' , linewidth=1.2)\n",
        "plt.scatter(xmore,ymore, color= 'blue',s=0.5, label='Distance from Origin > 1')\n",
        "plt.scatter(xless,yless, color= 'red',s=0.5,  label='Distance from Origin <= 1')\n",
        "plt.title(\"Ratio of Area of Circumference-Quadrant to Area of Square\")\n",
        "plt.legend()\n",
        "plt.legend(bbox_to_anchor=(1, 1.02))\n",
        "\n",
        "plt.show()\n",
        "\n",
        "print('\\n',est_pi)\n",
        "\n"
      ],
      "execution_count": 357,
      "outputs": [
        {
          "output_type": "display_data",
          "data": {
            "image/png": "[encoded data removed]",
            "text/plain": [
              "<Figure size 360x360 with 1 Axes>"
            ]
          },
          "metadata": {
            "needs_background": "light"
          }
        },
        {
          "output_type": "stream",
          "name": "stdout",
          "text": [
            "\n",
            " 3.14124\n"
          ]
        }
      ]
    }
  ]
}